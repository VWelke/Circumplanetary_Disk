{
 "cells": [
  {
   "cell_type": "markdown",
   "metadata": {},
   "source": [
    "### This notebook calculates parameters for ALMA input and interpret result from ALMA output\n",
    "This notebook has to be run with Python 3.8.10 kernel"
   ]
  },
  {
   "cell_type": "code",
   "execution_count": 1,
   "metadata": {},
   "outputs": [],
   "source": [
    "# Anyways I can do some caluclations of parameters first or set up a basic script\n",
    "\n",
    "# Required Resolution\n",
    "# prob about 0.1 arcsec and maybe smaller\n",
    "#To calculate"
   ]
  },
  {
   "cell_type": "code",
   "execution_count": 2,
   "metadata": {},
   "outputs": [],
   "source": [
    "# import casatasks\n",
    "#https://github.com/aardk/jupyter-casa/blob/master/examples/vla-cont-tutorial.ipynb\n",
    "#https://colab.research.google.com/github/casangi/examples/blob/master/community/casa6_demo.ipynb#scrollTo=IIr5sp0VgR2m"
   ]
  },
  {
   "cell_type": "markdown",
   "metadata": {},
   "source": [
    "### There is a sensitivity calculator already\n",
    "\n",
    "https://almascience.nrao.edu/proposing/sensitivity-calculator\n",
    "\n",
    "\n",
    "Common Parameters:\n",
    "\n",
    "\n",
    "Declination:  14h08m10s\n",
    "\n",
    "Polarisation:  Dual\n",
    "\n"
   ]
  },
  {
   "cell_type": "code",
   "execution_count": 12,
   "metadata": {},
   "outputs": [
    {
     "name": "stdout",
     "output_type": "stream",
     "text": [
      "Collecting jinja2\n",
      "  Downloading jinja2-3.1.5-py3-none-any.whl.metadata (2.6 kB)\n",
      "Collecting MarkupSafe>=2.0 (from jinja2)\n",
      "  Downloading MarkupSafe-3.0.2-cp312-cp312-win_amd64.whl.metadata (4.1 kB)\n",
      "Downloading jinja2-3.1.5-py3-none-any.whl (134 kB)\n",
      "Downloading MarkupSafe-3.0.2-cp312-cp312-win_amd64.whl (15 kB)\n",
      "Installing collected packages: MarkupSafe, jinja2\n",
      "Successfully installed MarkupSafe-3.0.2 jinja2-3.1.5\n"
     ]
    },
    {
     "name": "stderr",
     "output_type": "stream",
     "text": [
      "DEPRECATION: Loading egg at c:\\users\\lhem\\appdata\\local\\programs\\python\\python312\\lib\\site-packages\\radmc3dpy-2.0-py3.12.egg is deprecated. pip 25.1 will enforce this behaviour change. A possible replacement is to use pip for package installation. Discussion can be found at https://github.com/pypa/pip/issues/12330\n",
      "\n",
      "[notice] A new release of pip is available: 24.3.1 -> 25.0\n",
      "[notice] To update, run: python.exe -m pip install --upgrade pip\n"
     ]
    }
   ],
   "source": [
    "!pip install jinja2"
   ]
  },
  {
   "cell_type": "code",
   "execution_count": 25,
   "metadata": {},
   "outputs": [
    {
     "name": "stdout",
     "output_type": "stream",
     "text": [
      "Collecting tabulate\n",
      "  Downloading tabulate-0.9.0-py3-none-any.whl.metadata (34 kB)\n",
      "Downloading tabulate-0.9.0-py3-none-any.whl (35 kB)\n",
      "Installing collected packages: tabulate\n",
      "Successfully installed tabulate-0.9.0\n"
     ]
    },
    {
     "name": "stderr",
     "output_type": "stream",
     "text": [
      "DEPRECATION: Loading egg at c:\\users\\lhem\\appdata\\local\\programs\\python\\python312\\lib\\site-packages\\radmc3dpy-2.0-py3.12.egg is deprecated. pip 25.1 will enforce this behaviour change. A possible replacement is to use pip for package installation. Discussion can be found at https://github.com/pypa/pip/issues/12330\n"
     ]
    }
   ],
   "source": [
    "!pip install tabulate"
   ]
  },
  {
   "cell_type": "code",
   "execution_count": 5,
   "metadata": {},
   "outputs": [
    {
     "name": "stdout",
     "output_type": "stream",
     "text": [
      "   Column 1  Column 2  Column 3\n",
      "0  0.355783  0.854914  0.290049\n",
      "1  0.695603  0.669189  0.728948\n",
      "2  0.540359  0.786975  0.928111\n",
      "3  0.787424  0.884627  0.211422\n",
      "4  0.837876  0.092430  0.200458\n",
      "5  0.596453  0.973563  0.788637\n",
      "6  0.014318  0.350737  0.828953\n",
      "7  0.924630  0.280569  0.995238\n",
      "8  0.327475  0.121961  0.634876\n",
      "9  0.390151  0.213482  0.420222\n"
     ]
    }
   ],
   "source": [
    "# Snippet to output table\n",
    "\n",
    "import pandas as pd\n",
    "import numpy as np\n",
    "\n",
    "# Example arrays\n",
    "array1 = np.random.random(10)\n",
    "array2 = np.random.random(10)\n",
    "array3 = np.random.random(10)\n",
    "\n",
    "# Create a DataFrame from the arrays\n",
    "df = pd.DataFrame({\n",
    "    'Column 1': array1,\n",
    "    'Column 2': array2,\n",
    "    'Column 3': array3\n",
    "})\n",
    "\n",
    "# Display the DataFrame as a table\n",
    "print(df)"
   ]
  },
  {
   "cell_type": "markdown",
   "metadata": {},
   "source": [
    "### Spatial Resolution Formula in Arcseconds\n",
    "\n",
    "The resolution in arcseconds can be approximated as:\n",
    "\n",
    "$$\n",
    "\\text{FWHM} (\") = \\frac{76}{\\text{max\\_baseline (km)} \\times \\text{frequency (GHz)}}\n",
    "$$\n",
    "\n",
    "\n",
    "### Maximum Recoverable Scale (MRS):\n",
    "\n",
    "$$\n",
    "\\text{MRS} \\approx 0.6 \\times \\frac{\\lambda}{b_{\\text{min}}}\n",
    "$$\n",
    "\n",
    "\n",
    "<p style=\"color:blue;\">This is a note for the maximum baseline.</p>"
   ]
  },
  {
   "cell_type": "code",
   "execution_count": null,
   "metadata": {},
   "outputs": [],
   "source": []
  },
  {
   "cell_type": "code",
   "execution_count": 25,
   "metadata": {},
   "outputs": [
    {
     "name": "stdout",
     "output_type": "stream",
     "text": [
      "The angular size of the CPD is 0.010 arcsec, or 10.000 mas in mas.\n",
      "    Config      b_max (km)    40 GHz    100 GHz    150 GHz    185 GHz    230 GHz    345 GHz    460 GHz    650 GHz    870 GHz\n",
      " 0  C-7                3.6      0.53      0.21       0.14       0.11       0.092      0.061     0.046      0.033      0.024\n",
      " 1  C-8                8.5      0.24      0.096      0.064      0.052      0.042      0.028     0.021      0.015      0.011\n",
      " 2  C-9               13.9      0.14      0.057      0.038      0.031      0.025      0.017     0.012      0.0088     0.0066\n",
      " 3  C-10              16.2      0.11      0.042      0.028      0.023      0.018      0.012     0.0091     0.0065     0.0048\n",
      "\n",
      "If I observe at 1000 nm, the frequency is 300.0 GHz (Band 7)\n",
      "Ignoring the maximum recoverable scale as no extended emission observation is being performed.\n"
     ]
    }
   ],
   "source": [
    "# Take the radius of a CPD as 1 au (roughly for a HD168142b by calculating Hll's radius))\n",
    "# Rmb AU is not parsec-dependent, just stands for Earth-Sun distance\n",
    "\n",
    "import numpy as np\n",
    "import pandas as pd\n",
    "from astropy import units as u\n",
    "from astropy.constants import au, pc\n",
    "from tabulate import tabulate\n",
    "\n",
    "# Convert constants to CGS values\n",
    "au = au.cgs.value  # Astronomical Unit in cm\n",
    "pc = pc.cgs.value  # Parsec in cm\n",
    "\n",
    "# Define the radius of the CPD and the distance to the object\n",
    "radius_cpd = 1 * au  # 1 AU in cm\n",
    "distance_to_cpd = 100 * pc  # 100 parsecs in cm\n",
    "\n",
    "# Calculate the angular size in radians (small-angle approximation)\n",
    "angular_size_rad = radius_cpd / distance_to_cpd  # θ ≈ r / d for small angles\n",
    "\n",
    "# Convert radians to arcseconds\n",
    "angular_size_arcsec = (angular_size_rad * u.rad).to(u.arcsec)\n",
    "\n",
    "print(f\"The angular size of the CPD is {angular_size_arcsec:.3f}, or {angular_size_arcsec.to(u.mas):.3f} in mas.\")\n",
    "\n",
    "# Function to create ALMA table with configurations\n",
    "def create_alma_table():\n",
    "    \"\"\"Create a Pandas DataFrame for ALMA configurations C-7 to C-10 with band row\"\"\"\n",
    "    \n",
    "    # Define columns\n",
    "    columns = [\"Config\", \"b_max (km)\", \"40 GHz\", \"100 GHz\", \"150 GHz\", \"185 GHz\", \n",
    "               \"230 GHz\", \"345 GHz\", \"460 GHz\", \"650 GHz\", \"870 GHz\"]\n",
    "    \n",
    "    # Data excluding the \"Band\" row for consistency\n",
    "    data = [\n",
    "        [\"C-7\", 3.6, 0.53, 0.21, 0.14, 0.11, 0.092, 0.061, 0.046, 0.033, 0.024],\n",
    "        [\"C-8\", 8.5, 0.24, 0.096, 0.064, 0.052, 0.042, 0.028, 0.021, 0.015, 0.011],\n",
    "        [\"C-9\", 13.9, 0.14, 0.057, 0.038, 0.031, 0.025, 0.017, 0.012, 0.0088, 0.0066],\n",
    "        [\"C-10\", 16.2, 0.11, 0.042, 0.028, 0.023, 0.018, 0.012, 0.0091, 0.0065, 0.0048]\n",
    "    ]\n",
    "    \n",
    "    # Convert to DataFrame\n",
    "    df = pd.DataFrame(data, columns=columns)\n",
    "    \n",
    "    return df\n",
    "\n",
    "# Create the ALMA table\n",
    "df = create_alma_table()\n",
    "\n",
    "# Store angular resolution values in a universal NumPy array\n",
    "angular_resolutions = df.iloc[:, 2:].to_numpy()  # Extract only frequency-dependent columns\n",
    "\n",
    "\n",
    "# Extract individual arrays\n",
    "C7_res = angular_resolutions[0]  # C-7 values\n",
    "C8_res = angular_resolutions[1]  # C-8 values\n",
    "C9_res = angular_resolutions[2]  # C-9 values\n",
    "C10_res = angular_resolutions[3]  # C-10 values\n",
    "\n",
    "\n",
    "# Print the DataFrame using tabulate for better formatting\n",
    "print(tabulate(df, headers='keys', tablefmt='plain'))\n",
    "\n",
    "#print(tabulate(df, headers='keys', tablefmt='latex'))\n",
    "\n",
    "# Observational frequency and ALMA Band reference\n",
    "obs_frequency = 300 * u.GHz  # Observing at 1000 nm\n",
    "print(f'\\nIf I observe at 1000 nm, the frequency is {obs_frequency} (Band 7)')\n",
    "print(f'Ignoring the maximum recoverable scale as no extended emission observation is being performed.')\n"
   ]
  },
  {
   "cell_type": "markdown",
   "metadata": {},
   "source": []
  },
  {
   "cell_type": "markdown",
   "metadata": {},
   "source": [
    "### Noise Level in an Interferometer\n",
    "\n",
    "The noise level in the resulting data cubes (expressed in mJy) for an interferometer scales as:\n",
    "\n",
    "$$\n",
    "\\sigma = \\frac{k T_{\\text{sys}}}{A N^2 \\sqrt{N_p \\Delta\\nu \\Delta t}}\n",
    "$$\n",
    "\n",
    "where:\n",
    "\n",
    "\n",
    "$$\n",
    "\\begin{aligned}\n",
    "\\sigma &= \\text{Noise level (mJy)} \\\\\n",
    "k &= \\text{Boltzmann’s constant} \\\\\n",
    "T_{\\text{sys}} &= \\text{System temperature} \\\\\n",
    "A &= \\text{Area of each antenna} \\\\\n",
    "N &= \\text{Number of antennas} \\\\\n",
    "N_p &= \\text{Number of polarizations} \\\\\n",
    "\\Delta\\nu &= \\text{Available bandwidth} \\\\\n",
    "\\Delta t &= \\text{Observing time}\n",
    "\\end{aligned}\n",
    "$$\n",
    "\n",
    "\n",
    "$$ S_{\\text{Jy/beam}} = \\sum_{pix=0}^{n} S_{\\text{Jy/pixel}, pix} \\times \\frac{\\Omega_{\\text{beam}}}{\\Omega_{\\text{pixel}}} $$\n",
    "\n",
    "\n",
    "### Surface Brightness Sensitivity Formula\n",
    "\n",
    "The surface brightness sensitivity for non-point source is related to the point-source sensitivity  by:\n",
    "\n",
    "$$ \\sigma_T = \\frac{\\sigma_S \\lambda^2}{2k \\Omega} $$\n",
    "\n",
    "where the beam solid angle is given by:\n",
    "\n",
    "$$ \\Omega = \\frac{\\pi \\theta_{res}^2}{4 \\ln 2} $$\n",
    "\n",
    "where theta is the spatial resolution (FWHM of the beam).\n",
    "\n"
   ]
  },
  {
   "cell_type": "code",
   "execution_count": 10,
   "metadata": {},
   "outputs": [
    {
     "name": "stdout",
     "output_type": "stream",
     "text": [
      "Reading image.out\n",
      "The image size is 100 pixels wide and 100 pixels high.\n",
      "The pixel size is 29620382642004.49 cm in x-direction and 29620382642004.49 cm in y-direction.\n",
      "The pixel size is 0.020 arcseconds in x-direction and 0.020 arcseconds in y-direction.\n"
     ]
    }
   ],
   "source": [
    "# I want to estimate the noise I need to detect the CPD with a 5 sigma confidence\n",
    "# Then I can use the ALMA Sensitivity Calculator to estimate the integration time\n",
    "\n",
    "# Radmc3d(Jy/pixel) to (ALMA)Jy/beam and integrate over the beam and divide the total flux by 5\n",
    "# The beam is just the angular resolution of the band\n",
    "# RADMC3d  pixel size is 0.1 arcsec\n",
    "#  pixel size in arcsec = ( pixel size in cm / 1.496e13) / (distance in parsec)\n",
    "# pixel size in cm can be found in image.out (4th row)\n",
    "\n",
    "#######################################################################################################################################################################\n",
    "# Relevant Pixel/Beam/Arcsecond conversion\n",
    "\n",
    "\n",
    "\n",
    "import radmc3dPy.image as image\n",
    "\n",
    "# Read the image.out file\n",
    "img = image.readImage('image.out')\n",
    "\n",
    "# Get the pixel size\n",
    "nx = img.nx\n",
    "ny = img.ny\n",
    "pixel_size_x_cm = img.sizepix_x  #cm\n",
    "pixel_size_y_cm = img.sizepix_y #cm\n",
    "\n",
    "dpc = 100 #distance_to_object_pc\n",
    "\n",
    "# Print the pixel size\n",
    "print(f\"The image size is {nx} pixels wide and {ny} pixels high.\")\n",
    "print(f\"The pixel size is {pixel_size_x_cm} cm in x-direction and {pixel_size_y_cm} cm in y-direction.\")\n",
    "\n",
    "\n",
    "# Convert the pixel size to arcseconds\n",
    "pixel_size_x_arcsec = ((pixel_size_x_cm / 1.496e13)/ dpc)  #arcsecond\n",
    "pixel_size_y_arcsec = ((pixel_size_y_cm  / 1.496e13)/ dpc) #arcsecond\n",
    "\n",
    "print(f\"The pixel size is {pixel_size_x_arcsec:0.3f} arcseconds in x-direction and {pixel_size_y_arcsec:0.3f} arcseconds in y-direction.\")\n",
    "\n",
    "# Calculate the beam\n",
    "\n",
    "beam_radmc = np.pi*(pixel_size_x_arcsec*pixel_size_y_arcsec)/(4*np.log(2)) # radmc3d beam in arcsec^2 \n",
    "\n",
    "# Each band+config has a different beam size\n",
    "# Need a matrix, how do I represent them so they are convenient when I need a noise level and not make it too messy?\n",
    "# Start with just 1 configuration -C-10 \n",
    "\n",
    "\n",
    "beam_ALMA_C10 = np.pi*(C10_res**2)/(4*np.log(2)) # for each band in C10 configuration\n",
    "\n"
   ]
  },
  {
   "cell_type": "code",
   "execution_count": 33,
   "metadata": {},
   "outputs": [
    {
     "name": "stdout",
     "output_type": "stream",
     "text": [
      "Reading image.out\n"
     ]
    },
    {
     "data": {
      "image/png": "[encoded data removed]",
      "text/plain": [
       "<Figure size 640x480 with 2 Axes>"
      ]
     },
     "metadata": {},
     "output_type": "display_data"
    },
    {
     "data": {
      "text/plain": [
       "{'implot': <matplotlib.image.AxesImage at 0x15e08c2d280>,\n",
       " 'cbar': <matplotlib.colorbar.Colorbar at 0x15e08bd9430>}"
      ]
     },
     "execution_count": 33,
     "metadata": {},
     "output_type": "execute_result"
    }
   ],
   "source": [
    "#sum all relevant pixels in the CPD to get total flux \n",
    "\n",
    "# Load image.out with radmc3dpy  readImage() function\n",
    "from radmc3dPy.image import *\n",
    "from radmc3dPy.analyze import *\n",
    "from radmc3dPy.natconst import *\n",
    "\n",
    "# make a set of images with different wavelengths\n",
    "# makeImage(npix=200,incl=60.,phi=30.,wav=1.3e3,sizeau=200)\n",
    "\n",
    "\n",
    "im_mm = readImage()\n",
    "plt.figure()\n",
    "#plotImage(im_mm,au=True,log=True,maxlog=3,bunit='jy/pixel',dpc=dpc,cmap='plasma')  # for when brightness variation is too large\n",
    "plotImage(image=im_mm, au = True,maxlog =3, bunit='jy/pixel', dpc =100, cmap = plt.cm.plasma)\n",
    "#Convert total flux to Jy/beam\n",
    "#Calculate the noise level for 5 sigma detection in Jy/beam"
   ]
  },
  {
   "cell_type": "code",
   "execution_count": null,
   "metadata": {},
   "outputs": [],
   "source": [
    "import matplotlib.pyplot as plt\n",
    "from matplotlib.patches import Ellipse\n",
    "\n",
    "# Load your RADMC-3D image (assuming it's a 2D numpy array)\n",
    "# Replace with your actual data\n",
    "image = np.random.rand(100, 100)  # Example: 100x100 pixel image\n",
    "\n",
    "# Define the pixel scale and ALMA beam size (in arcseconds)\n",
    "pixel_size = 0.05  # arcsec per pixel (modify based on your image)\n",
    "theta_maj = 0.5  # ALMA beam major axis (arcsec)\n",
    "theta_min = 0.4  # ALMA beam minor axis (arcsec)\n",
    "\n",
    "# Compute beam area and pixel area\n",
    "omega_beam = (np.pi * theta_maj * theta_min) / (4 * np.log(2))  # Beam solid angle in arcsec^2\n",
    "omega_pixel = pixel_size**2  # Pixel solid angle in arcsec^2\n",
    "beam_correction = omega_beam / omega_pixel  # Number of pixels per beam\n",
    "\n",
    "# Plot the image\n",
    "fig, ax = plt.subplots(figsize=(8, 8))\n",
    "ax.imshow(image, origin='lower', cmap='inferno', extent=[0, image.shape[1]*pixel_size, 0, image.shape[0]*pixel_size])\n",
    "\n",
    "# Overlay ALMA beam ellipses\n",
    "num_beams_x = int(image.shape[1] * pixel_size / theta_maj)  # Estimate how many beams fit in x\n",
    "num_beams_y = int(image.shape[0] * pixel_size / theta_min)  # Estimate how many beams fit in y\n",
    "\n",
    "for i in range(0, num_beams_x, 5):  # Spacing out beams\n",
    "    for j in range(0, num_beams_y, 5):\n",
    "        beam = Ellipse(xy=(i * theta_maj, j * theta_min),\n",
    "                       width=theta_maj, height=theta_min,\n",
    "                       edgecolor='cyan', facecolor='none', linewidth=1.5)\n",
    "        ax.add_patch(beam)\n",
    "\n",
    "# Labels\n",
    "ax.set_xlabel(\"RA Offset (arcsec)\")\n",
    "ax.set_ylabel(\"Dec Offset (arcsec)\")\n",
    "ax.set_title(\"RADMC-3D Image with ALMA Beams Overlaid\")\n",
    "plt.colorbar(label=\"Flux (Jy/pixel)\")\n",
    "\n",
    "# Show the plot\n",
    "plt.show()\n"
   ]
  },
  {
   "cell_type": "code",
   "execution_count": null,
   "metadata": {},
   "outputs": [],
   "source": []
  }
 ],
 "metadata": {
  "kernelspec": {
   "display_name": "Python 3",
   "language": "python",
   "name": "python3"
  },
  "language_info": {
   "codemirror_mode": {
    "name": "ipython",
    "version": 3
   },
   "file_extension": ".py",
   "mimetype": "text/x-python",
   "name": "python",
   "nbconvert_exporter": "python",
   "pygments_lexer": "ipython3",
   "version": "3.12.8"
  }
 },
 "nbformat": 4,
 "nbformat_minor": 2
}
