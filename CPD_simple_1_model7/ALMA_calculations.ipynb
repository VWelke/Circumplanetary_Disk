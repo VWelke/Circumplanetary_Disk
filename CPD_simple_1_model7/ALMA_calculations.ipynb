{
 "cells": [
  {
   "cell_type": "markdown",
   "metadata": {},
   "source": [
    "### This notebook calculates parameters for ALMA input and interpret result from ALMA output\n",
    "This notebook has to be run with Python 3.8.10 kernel"
   ]
  },
  {
   "cell_type": "code",
   "execution_count": 13,
   "metadata": {},
   "outputs": [],
   "source": [
    "# Anyways I can do some caluclations of parameters first or set up a basic script\n",
    "\n",
    "# Required Resolution\n",
    "# prob about 0.1 arcsec and maybe smaller\n",
    "#To calculate"
   ]
  },
  {
   "cell_type": "code",
   "execution_count": 14,
   "metadata": {},
   "outputs": [],
   "source": [
    "# import casatasks\n",
    "#https://github.com/aardk/jupyter-casa/blob/master/examples/vla-cont-tutorial.ipynb\n",
    "#https://colab.research.google.com/github/casangi/examples/blob/master/community/casa6_demo.ipynb#scrollTo=IIr5sp0VgR2m"
   ]
  },
  {
   "cell_type": "markdown",
   "metadata": {},
   "source": [
    "### There is a sensitivity calculator already\n",
    "\n",
    "https://almascience.nrao.edu/proposing/sensitivity-calculator\n",
    "\n",
    "\n",
    "Common Parameters:\n",
    "\n",
    "\n",
    "Declination:  14h08m10s\n",
    "\n",
    "Polarisation:  Dual\n",
    "\n"
   ]
  },
  {
   "cell_type": "markdown",
   "metadata": {},
   "source": [
    "### Frequency to Wavelength Conversion\n",
    "| Band | 1 | 3  | 4  | 5  | 6  | 7  | 8  | 9  | 10  |\n",
    "|----------------|-----|------|------|------|------|------|------|------|------|\n",
    "| Frequency (GHz) | 40  | 100  | 150  | 185  | 230  | 345  | 460  | 650  | 870  |\n",
    "| Wavelength (μm) | 7500 | 3000 | 2000 | 1621.62 | 1304.35 | 869.57 | 652.17 | 461.54 | 344.83 |"
   ]
  },
  {
   "cell_type": "markdown",
   "metadata": {},
   "source": [
    "### Spatial Resolution Formula in Arcseconds\n",
    "\n",
    "The resolution in arcseconds can be approximated as:\n",
    "\n",
    "$$\n",
    "\\text{FWHM} (\") = \\frac{76}{\\text{max\\_baseline (km)} \\times \\text{frequency (GHz)}}\n",
    "$$\n",
    "\n",
    "\n",
    "### Maximum Recoverable Scale (MRS):\n",
    "\n",
    "$$\n",
    "\\text{MRS} \\approx 0.6 \\times \\frac{\\lambda}{b_{\\text{min}}}\n",
    "$$\n",
    "\n",
    "\n",
    "<p style=\"color:blue;\">This is a note for the maximum baseline.</p>"
   ]
  },
  {
   "cell_type": "code",
   "execution_count": null,
   "metadata": {},
   "outputs": [],
   "source": []
  },
  {
   "cell_type": "code",
   "execution_count": 2,
   "metadata": {},
   "outputs": [
    {
     "name": "stdout",
     "output_type": "stream",
     "text": [
      "The angular size of the CPD is 0.010 arcsec, or 10.000 mas in mas.\n",
      "    Config      b_max (km)    40 GHz    100 GHz    150 GHz    185 GHz    230 GHz    345 GHz    460 GHz    650 GHz    870 GHz\n",
      " 0  C-7                3.6      0.53      0.21       0.14       0.11       0.092      0.061     0.046      0.033      0.024\n",
      " 1  C-8                8.5      0.24      0.096      0.064      0.052      0.042      0.028     0.021      0.015      0.011\n",
      " 2  C-9               13.9      0.14      0.057      0.038      0.031      0.025      0.017     0.012      0.0088     0.0066\n",
      " 3  C-10              16.2      0.11      0.042      0.028      0.023      0.018      0.012     0.0091     0.0065     0.0048\n",
      "\n",
      "Band2 not available for cycle 11?\n",
      "\n",
      "If I observe at 1000 nm, the frequency is 300.0 GHz (Band 7)\n",
      "Ignoring the maximum recoverable scale as no extended emission observation is being performed.\n"
     ]
    }
   ],
   "source": [
    "# Take the radius of a CPD as 1 au (roughly for a HD168142b by calculating Hll's radius))\n",
    "# Rmb AU is not parsec-dependent, just stands for Earth-Sun distance\n",
    "\n",
    "import numpy as np\n",
    "import pandas as pd\n",
    "from astropy import units as u\n",
    "from astropy.constants import au, pc\n",
    "from tabulate import tabulate\n",
    "\n",
    "# Convert constants to CGS values\n",
    "au = au.cgs.value  # Astronomical Unit in cm\n",
    "pc = pc.cgs.value  # Parsec in cm\n",
    "\n",
    "# Define the radius of the CPD and the distance to the object\n",
    "radius_cpd = 1 * au  # 1 AU in cm\n",
    "distance_to_cpd = 100 * pc  # 100 parsecs in cm\n",
    "\n",
    "# Calculate the angular size in radians (small-angle approximation)\n",
    "angular_size_rad = radius_cpd / distance_to_cpd  # θ ≈ r / d for small angles\n",
    "\n",
    "# Convert radians to arcseconds\n",
    "angular_size_arcsec = (angular_size_rad * u.rad).to(u.arcsec)\n",
    "\n",
    "print(f\"The angular size of the CPD is {angular_size_arcsec:.3f}, or {angular_size_arcsec.to(u.mas):.3f} in mas.\")\n",
    "\n",
    "# Function to create ALMA table with configurations\n",
    "def create_alma_table():\n",
    "    \"\"\"Create a Pandas DataFrame for ALMA configurations C-7 to C-10 with band row\"\"\"\n",
    "    \n",
    "    # Define columns\n",
    "    columns = [\"Config\", \"b_max (km)\", \"40 GHz\", \"100 GHz\", \"150 GHz\", \"185 GHz\", \n",
    "               \"230 GHz\", \"345 GHz\", \"460 GHz\", \"650 GHz\", \"870 GHz\"]\n",
    "    \n",
    "    # Data excluding the \"Band\" row for consistency\n",
    "    data = [\n",
    "        [\"C-7\", 3.6, 0.53, 0.21, 0.14, 0.11, 0.092, 0.061, 0.046, 0.033, 0.024],\n",
    "        [\"C-8\", 8.5, 0.24, 0.096, 0.064, 0.052, 0.042, 0.028, 0.021, 0.015, 0.011],\n",
    "        [\"C-9\", 13.9, 0.14, 0.057, 0.038, 0.031, 0.025, 0.017, 0.012, 0.0088, 0.0066],\n",
    "        [\"C-10\", 16.2, 0.11, 0.042, 0.028, 0.023, 0.018, 0.012, 0.0091, 0.0065, 0.0048]\n",
    "    ]\n",
    "    \n",
    "    # Convert to DataFrame\n",
    "    df = pd.DataFrame(data, columns=columns)\n",
    "    \n",
    "    return df\n",
    "\n",
    "# Create the ALMA table\n",
    "df = create_alma_table()\n",
    "\n",
    "# Store angular resolution values in a universal NumPy array\n",
    "angular_resolutions = df.iloc[:, 2:].to_numpy()  # Extract only frequency-dependent columns\n",
    "\n",
    "\n",
    "# Extract individual arrays\n",
    "C7_res = angular_resolutions[0]  # C-7 values\n",
    "C8_res = angular_resolutions[1]  # C-8 values\n",
    "C9_res = angular_resolutions[2]  # C-9 values\n",
    "C10_res = angular_resolutions[3]  # C-10 values\n",
    "\n",
    "\n",
    "# Print the DataFrame using tabulate for better formatting\n",
    "print(tabulate(df, headers='keys', tablefmt='plain'))\n",
    "\n",
    "#print(tabulate(df, headers='keys', tablefmt='latex'))\n",
    "\n",
    "# Observational frequency and ALMA Band reference\n",
    "obs_frequency = 300 * u.GHz  # Observing at 1000 nm\n",
    "print(f'\\nBand2 not available for cycle 11?')\n",
    "print(f'\\nIf I observe at 1000 nm, the frequency is {obs_frequency} (Band 7)')\n",
    "print(f'Ignoring the maximum recoverable scale as no extended emission observation is being performed.')\n"
   ]
  },
  {
   "cell_type": "markdown",
   "metadata": {},
   "source": []
  },
  {
   "cell_type": "markdown",
   "metadata": {},
   "source": [
    "### Noise Level in an Interferometer\n",
    "\n",
    "The noise level in the resulting data cubes (expressed in mJy) for an interferometer scales as:\n",
    "\n",
    "$$\n",
    "\\sigma = \\frac{k T_{\\text{sys}}}{A N^2 \\sqrt{N_p \\Delta\\nu \\Delta t}}\n",
    "$$\n",
    "\n",
    "where:\n",
    "\n",
    "\n",
    "$$\n",
    "\\begin{aligned}\n",
    "\\sigma &= \\text{Noise level (mJy)} \\\\\n",
    "k &= \\text{Boltzmann’s constant} \\\\\n",
    "T_{\\text{sys}} &= \\text{System temperature} \\\\\n",
    "A &= \\text{Area of each antenna} \\\\\n",
    "N &= \\text{Number of antennas} \\\\\n",
    "N_p &= \\text{Number of polarizations} \\\\\n",
    "\\Delta\\nu &= \\text{Available bandwidth} \\\\\n",
    "\\Delta t &= \\text{Observing time}\n",
    "\\end{aligned}\n",
    "$$\n",
    "\n",
    "\n",
    "$$ S_{\\text{Jy/beam}} =  S_{\\text{Jy/pixel}} \\times \\frac{\\Omega_{\\text{beam}}}{\\Omega_{\\text{pixel}}} $$\n",
    "\n",
    "\n",
    "### Surface Brightness Sensitivity Formula\n",
    "\n",
    "The surface brightness sensitivity for non-point source is related to the point-source sensitivity  by:\n",
    "\n",
    "$$ \\sigma_T = \\frac{\\sigma_S \\lambda^2}{2k \\Omega} $$\n",
    "\n",
    "where the beam solid angle is given by:\n",
    "\n",
    "$$ \\Omega = \\frac{\\pi \\theta_{res}^2}{4 \\ln 2} $$\n",
    "\n",
    "where theta is the spatial resolution (FWHM of the beam).\n",
    "\n"
   ]
  },
  {
   "cell_type": "code",
   "execution_count": 17,
   "metadata": {},
   "outputs": [
    {
     "name": "stdout",
     "output_type": "stream",
     "text": [
      "Reading image.out\n",
      "The image size is 100 pixels wide and 100 pixels high.\n",
      "The pixel size is 29620382642004.49 cm in x-direction and 29620382642004.49 cm in y-direction.\n",
      "The pixel size is 0.020 arcseconds in x-direction and 0.020 arcseconds in y-direction.\n",
      "\n",
      "\n",
      "The beam for radmc3d is 3.920e-04 arcsec^2\n",
      "\n",
      "\n",
      "For C10 configuration:\n",
      "Band\tBeam (arcsec^2)\tPixels per Beam\n",
      "Band 1\t\t1.371e-02\t\t34.973\n",
      "Band 3\t\t1.999e-03\t\t5.099\n",
      "Band 4\t\t8.883e-04\t\t2.266\n",
      "Band 5\t\t5.994e-04\t\t1.529\n",
      "Band 6\t\t3.671e-04\t\t0.936\n",
      "Band 7\t\t1.632e-04\t\t0.416\n",
      "Band 8\t\t9.383e-05\t\t0.239\n",
      "Band 9\t\t4.787e-05\t\t0.122\n",
      "Band 10\t\t2.611e-05\t\t0.067\n",
      "\n",
      "\n"
     ]
    }
   ],
   "source": [
    "# I want to estimate the noise I need to detect the CPD with a 5 sigma confidence\n",
    "# Then I can use the ALMA Sensitivity Calculator to estimate the integration time\n",
    "\n",
    "# Radmc3d(Jy/pixel) to (ALMA)Jy/beam and integrate over the beam and divide the total flux by 5\n",
    "# The beam is just the angular resolution of the band\n",
    "# RADMC3d  pixel size is 0.1 arcsec\n",
    "#  pixel size in arcsec = ( pixel size in cm / 1.496e13) / (distance in parsec)\n",
    "# pixel size in cm can be found in image.out (4th row)\n",
    "\n",
    "#######################################################################################################################################################################\n",
    "# Relevant Pixel/Beam/Arcsecond conversion\n",
    "\n",
    "\n",
    "\n",
    "import radmc3dPy.image as image\n",
    "\n",
    "# Read the image.out file\n",
    "img = image.readImage('image.out')\n",
    "\n",
    "# Get the pixel size\n",
    "nx = img.nx\n",
    "ny = img.ny\n",
    "pixel_size_x_cm = img.sizepix_x  #cm\n",
    "pixel_size_y_cm = img.sizepix_y #cm\n",
    "\n",
    "dpc = 100 #distance_to_object_pc\n",
    "\n",
    "# Print the pixel size\n",
    "print(f\"The image size is {nx} pixels wide and {ny} pixels high.\")\n",
    "print(f\"The pixel size is {pixel_size_x_cm} cm in x-direction and {pixel_size_y_cm} cm in y-direction.\")\n",
    "\n",
    "\n",
    "# Convert the pixel size to arcseconds\n",
    "pixel_size_x_arcsec = ((pixel_size_x_cm / 1.496e13)/ dpc)  #arcsecond\n",
    "pixel_size_y_arcsec = ((pixel_size_y_cm  / 1.496e13)/ dpc) #arcsecond\n",
    "\n",
    "print(f\"The pixel size is {pixel_size_x_arcsec:0.3f} arcseconds in x-direction and {pixel_size_y_arcsec:0.3f} arcseconds in y-direction.\")\n",
    "\n",
    "# Calculate the beam\n",
    "\n",
    "beam_radmc = pixel_size_x_arcsec*pixel_size_y_arcsec # radmc3d beam in arcsec^2 \n",
    "# or just the square area???\n",
    "\n",
    "# Each band+config has a different beam size\n",
    "# Need a matrix, how do I represent them so they are convenient when I need a noise level and not make it too messy?\n",
    "# Start with just 1 configuration -C-10 \n",
    "\n",
    "\n",
    "beam_ALMA_C10 = np.pi*(C10_res**2)/(4*np.log(2)) # for each band in C10 configuration\n",
    "\n",
    "\n",
    "bands = [1, 3, 4, 5, 6, 7, 8, 9, 10]  # Correct band numbers\n",
    "\n",
    "\n",
    "pixels_per_beam = [beam / beam_radmc for beam in beam_ALMA_C10]\n",
    "\n",
    "# Print the beams in the desired format\n",
    "print('\\n')\n",
    "print(f\"The beam for radmc3d is {beam_radmc:.3e} arcsec^2\")\n",
    "print('\\n')\n",
    "print(\"For C10 configuration:\")\n",
    "print(\"Band\\tBeam (arcsec^2)\\tPixels per Beam\")\n",
    "for band, beam, pixels in zip(bands, beam_ALMA_C10, pixels_per_beam):\n",
    "    print(f\"Band {band}\\t\\t{beam:.3e}\\t\\t{pixels:.3f}\")\n",
    "\n",
    "print('\\n')\n",
    "\n",
    "print('For larger Bands, the pixel size is larger than the beam size')"
   ]
  },
  {
   "cell_type": "code",
   "execution_count": 19,
   "metadata": {},
   "outputs": [
    {
     "name": "stdout",
     "output_type": "stream",
     "text": [
      "The noise level required to detect the CPD with a 5 sigma confidence is 2.682e-05 Jy/beam in Band 5 in config 10\n",
      "6.68853 hours is required\n"
     ]
    }
   ],
   "source": [
    "# Get the brightness of CPD outer rim in Jy/pixel * beam_ALMA/beam_radmc\n",
    "\n",
    "ALMA1621_Jy_pixel = 8.769799660513e-5 # mean brightness over 4 pixels Jy/pixel   \n",
    "\n",
    "noise = (ALMA1621_Jy_pixel/5)*beam_ALMA_C10[3]/beam_radmc\n",
    "\n",
    "print(f'The noise level required to detect the CPD with a 5 sigma confidence is {noise:.3e} Jy/beam in Band 5 in config 10')\n",
    "print(f'6.68853 hours is required')"
   ]
  },
  {
   "cell_type": "code",
   "execution_count": null,
   "metadata": {},
   "outputs": [],
   "source": [
    "\n"
   ]
  },
  {
   "cell_type": "markdown",
   "metadata": {},
   "source": [
    "### CASA Simobserve parameters\n"
   ]
  },
  {
   "cell_type": "code",
   "execution_count": null,
   "metadata": {},
   "outputs": [],
   "source": []
  }
 ],
 "metadata": {
  "kernelspec": {
   "display_name": "Python 3",
   "language": "python",
   "name": "python3"
  },
  "language_info": {
   "codemirror_mode": {
    "name": "ipython",
    "version": 3
   },
   "file_extension": ".py",
   "mimetype": "text/x-python",
   "name": "python",
   "nbconvert_exporter": "python",
   "pygments_lexer": "ipython3",
   "version": "3.12.8"
  }
 },
 "nbformat": 4,
 "nbformat_minor": 2
}
