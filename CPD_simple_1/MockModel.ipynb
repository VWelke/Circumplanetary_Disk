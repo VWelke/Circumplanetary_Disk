{
 "cells": [
  {
   "cell_type": "markdown",
   "metadata": {},
   "source": [
    "## Circumplanetary Disk - Create a Simple Mock Model"
   ]
  },
  {
   "cell_type": "code",
   "execution_count": null,
   "metadata": {},
   "outputs": [],
   "source": [
    "import numpy as np \n"
   ]
  },
  {
   "cell_type": "code",
   "execution_count": 5,
   "metadata": {},
   "outputs": [
    {
     "name": "stdout",
     "output_type": "stream",
     "text": [
      "0.9299133490495572 AU\n"
     ]
    }
   ],
   "source": [
    "# Hill's radius for HD 169142 b CPD:\n",
    "from astropy.constants import M_sun, L_sun, R_sun, au, pc, G, M_jup\n",
    "\n",
    "def disk_hill_radius(a, m, M):\n",
    "    \"a: semi-major axis, m: mass of the planet, M: mass of the star\"\n",
    "    Hill = a * (m / (3 * M))**(1/3)\n",
    "    CPD_r_out = (0.3 * Hill).to('au')\n",
    "    #err_Hill\n",
    "    return CPD_r_out\n",
    "\n",
    "\n",
    "HD168142b_r_out = disk_hill_radius(37.2*au, 3*M_jup, 1.65 * M_sun)\n",
    "print(HD168142b_r_out)\n",
    "\n",
    "\n"
   ]
  },
  {
   "cell_type": "code",
   "execution_count": null,
   "metadata": {},
   "outputs": [],
   "source": []
  }
 ],
 "metadata": {
  "kernelspec": {
   "display_name": "base",
   "language": "python",
   "name": "python3"
  },
  "language_info": {
   "codemirror_mode": {
    "name": "ipython",
    "version": 3
   },
   "file_extension": ".py",
   "mimetype": "text/x-python",
   "name": "python",
   "nbconvert_exporter": "python",
   "pygments_lexer": "ipython3",
   "version": "3.9.13"
  }
 },
 "nbformat": 4,
 "nbformat_minor": 2
}
