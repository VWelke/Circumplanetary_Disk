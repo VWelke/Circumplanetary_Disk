{
 "cells": [
  {
   "cell_type": "code",
   "execution_count": null,
   "metadata": {},
   "outputs": [
    {
     "name": "stdout",
     "output_type": "stream",
     "text": []
    }
   ],
   "source": [
    "from radmc3dPy.image import *\n",
    "from radmc3dPy.analyze import *\n",
    "from radmc3dPy.natconst import *\n",
    "\n",
    "import os\n",
    "import matplotlib.pyplot as plt"
   ]
  },
  {
   "cell_type": "code",
   "execution_count": null,
   "metadata": {},
   "outputs": [
    {
     "name": "stdout",
     "output_type": "stream",
     "text": []
    },
    {
     "data": {},
     "execution_count": 2,
     "metadata": {},
     "output_type": "execute_result"
    }
   ],
   "source": [
    "#makeImage(npix=200,incl=60.,phi=30.,wav=1.3e3,sizeau=200)\n",
    "#makeImage(npix=100,incl=0.,phi=0.,wav=344) \n",
    "\n",
    "makeImage(npix=100,incl=0.,phi=0.,wav=1300,sizeau=350,setthreads=4)   # This calls radmc3d\n",
    "os.system('cp image.out image_iso.out')\n"
   ]
  },
  {
   "cell_type": "code",
   "execution_count": 4,
   "metadata": {},
   "outputs": [
    {
     "name": "stdout",
     "output_type": "stream",
     "text": []
    },
    {
     "data": {},
     "metadata": {},
     "output_type": "display_data"
    },
    {
     "data": {},
     "metadata": {},
     "output_type": "display_data"
    },
    {
     "data": {},
     "metadata": {},
     "output_type": "display_data"
    },
    {
     "data": {},
     "metadata": {},
     "output_type": "display_data"
    },
    {
     "data": {},
     "metadata": {},
     "output_type": "display_data"
    },
    {
     "data": {},
     "metadata": {},
     "output_type": "display_data"
    },
    {
     "data": {},
     "metadata": {},
     "output_type": "display_data"
    },
    {
     "data": {},
     "metadata": {},
     "output_type": "display_data"
    },
    {
     "data": {},
     "metadata": {},
     "output_type": "display_data"
    },
    {
     "data": {},
     "metadata": {},
     "output_type": "display_data"
    }
   ],
   "source": [
    "import matplotlib.pyplot as plt\n",
    "\n",
    "\n",
    "# Try \n",
    "\n",
    "\n",
    "# Set the directory to read image.out\n",
    "image_file = 'C:/Users/LHEM/Desktop/Van_Code_Projects/Circumplanetary_Disk/CPD_dust_dias_ne9/image.out'\n",
    "\n",
    "# Read the image\n",
    "im_mm = readImage(fname=image_file)\n",
    "\n",
    "#im_mm = readImage()\n",
    "# Create a figure with subplots\n",
    "\n",
    "# Loop through ifreq from 0 to 8\n",
    "for i in range(9):\n",
    "    plotImage(im_mm, au=True, ifreq=i, log=True, maxlog=3, bunit='jy/pixel', dpc=100, cmap='plasma')\n",
    "\n",
    "# prob need not use plotImage, but plot image.out directly and show which band is which\n",
    "# Adjust layout\n",
    "plt.tight_layout()\n",
    "plt.show()"
   ]
  },
  {
   "cell_type": "code",
   "execution_count": null,
   "metadata": {},
   "outputs": [
    {
     "name": "stdout",
     "output_type": "stream",
     "text": []
    },
    {
     "data": {},
     "metadata": {},
     "output_type": "display_data"
    }
   ],
   "source": [
    "#check the wavelength\n",
    "\n",
    "import matplotlib.pyplot as plt\n",
    "from radmc3dPy.image import readImage, plotImage\n",
    "\n",
    "# Load the image using radmc3dPy\n",
    "im_mm = readImage()\n",
    "\n",
    "# Create a figure\n",
    "plt.figure(figsize=(8, 6))\n",
    "\n",
    "# Plot the image for ifreq=3\n",
    "plotImage(im_mm, au=True, ifreq=3, log=True, maxlog=3, bunit='jy/pixel', dpc=100, cmap='plasma')\n",
    "\n",
    "# Show the plot\n",
    "plt.show()"
   ]
  },
  {
   "cell_type": "code",
   "execution_count": null,
   "metadata": {},
   "outputs": [],
   "source": [
    "im_mm.writeFits('CPD_PPD_PDS70_1621.fits', dpc=113., coord='14h08m10s -41d23m53s', ifreq=3)"
   ]
  },
  {
   "cell_type": "code",
   "execution_count": null,
   "metadata": {},
   "outputs": [],
   "source": [
    "im_mm.writeFits('CPD_PPD_PDS70_7500.fits', dpc=113., coord='14h08m10s -41d23m53s', ifreq=0)\n",
    "im_mm.writeFits('CPD_PPD_PDS70_3000.fits', dpc=113., coord='14h08m10s -41d23m53s', ifreq=1)\n",
    "im_mm.writeFits('CPD_PPD_PDS70_2000.fits', dpc=113., coord='14h08m10s -41d23m53s', ifreq=2)\n",
    "im_mm.writeFits('CPD_PPD_PDS70_1304.fits', dpc=113., coord='14h08m10s -41d23m53s', ifreq=4)\n",
    "im_mm.writeFits('CPD_PPD_PDS70_870.fits', dpc=113., coord='14h08m10s -41d23m53s', ifreq=5)\n",
    "im_mm.writeFits('CPD_PPD_PDS70_652.fits', dpc=113., coord='14h08m10s -41d23m53s', ifreq=6)\n",
    "im_mm.writeFits('CPD_PPD_PDS70_461.fits', dpc=113., coord='14h08m10s -41d23m53s', ifreq=7)\n",
    "im_mm.writeFits('CPD_PPD_PDS70_345.fits', dpc=113., coord='14h08m10s -41d23m53s', ifreq=8)"
   ]
  },
  {
   "cell_type": "code",
   "execution_count": null,
   "metadata": {},
   "outputs": [
    {
     "data": {},
     "metadata": {},
     "output_type": "display_data"
    },
    {
     "data": {},
     "metadata": {},
     "output_type": "display_data"
    },
    {
     "data": {},
     "metadata": {},
     "output_type": "display_data"
    },
    {
     "data": {},
     "metadata": {},
     "output_type": "display_data"
    },
    {
     "data": {},
     "metadata": {},
     "output_type": "display_data"
    },
    {
     "data": {},
     "metadata": {},
     "output_type": "display_data"
    },
    {
     "data": {},
     "metadata": {},
     "output_type": "display_data"
    },
    {
     "data": {},
     "metadata": {},
     "output_type": "display_data"
    },
    {
     "data": {},
     "metadata": {},
     "output_type": "display_data"
    },
    {
     "data": {},
     "metadata": {},
     "output_type": "display_data"
    }
   ],
   "source": [
    "# Not in log\n",
    "\n",
    "# Loop through ifreq from 0 to 8\n",
    "for i in range(9):\n",
    "    plotImage(im_mm, au=True, ifreq=i, bunit='jy/pixel', dpc=100, cmap='plasma')\n",
    "    cbar = plt.colorbar(implot)\n",
    "    cbar.set_label(cb_label)\n",
    "\n",
    "\n",
    "\n",
    "# prob need not use plotImage, but plot image.out directly and show which band is which\n",
    "# Adjust layout\n",
    "plt.tight_layout()\n",
    "plt.show()"
   ]
  },
  {
   "cell_type": "code",
   "execution_count": null,
   "metadata": {},
   "outputs": [
    {
     "name": "stdout",
     "output_type": "stream",
     "text": []
    },
    {
     "data": {},
     "execution_count": 24,
     "metadata": {},
     "output_type": "execute_result"
    },
    {
     "data": {},
     "metadata": {},
     "output_type": "display_data"
    }
   ],
   "source": [
    "# Spectrum： radiation intensity vs wavelength\n",
    "# SED: energy outpyt vs wavelength , can identify the components \n",
    "\n",
    "# Plot the spectrum of the CPD\n",
    "\n",
    "\n",
    "# Make and plot the SED as seen at 1 pc distance\n",
    "#\n",
    "s     = readSpectrum()\n",
    "lam   = s[:,0]  # Wavelength in micron\n",
    "nu    = 1e4*cc/lam  # so that nu is in Hz\n",
    "fnu   = s[:,1] # F_nu in ergs/cm^2/s/Hz\n",
    "nufnu = nu*fnu  #y axis values in ergs/cm^2/s\n",
    "plt.figure()\n",
    "plt.plot(lam,nufnu)\n",
    "#plt.xlim([100,1000])\n",
    "plt.title('SED at 100 pc distance')\n",
    "plt.xscale('log')\n",
    "plt.yscale('log')\n",
    "plt.axis([1e1, 1e3, 1e-10, 1e-7])\n",
    "\n",
    "plt.xlabel('$\\lambda\\; [\\mu \\mathrm{m}$]')\n",
    "plt.ylabel('$\\\\nu F_\\\\nu \\; [\\mathrm{erg}\\,\\mathrm{cm}^{-2}\\,\\mathrm{s}^{-1}]$')\n",
    "\n"
   ]
  },
  {
   "cell_type": "code",
   "execution_count": null,
   "metadata": {},
   "outputs": [
    {
     "name": "stdout",
     "output_type": "stream",
     "text": []
    }
   ],
   "source": [
    "print('The emission is stronger at high frequency end, and the optical depth is also higher in high-frequency end.')"
   ]
  },
  {
   "cell_type": "code",
   "execution_count": null,
   "metadata": {},
   "outputs": [],
   "source": []
  }
 ],
 "metadata": {
  "kernelspec": {
   "display_name": "Python 3",
   "language": "python",
   "name": "python3"
  },
  "language_info": {
   "codemirror_mode": {
    "name": "ipython",
    "version": 3
   },
   "file_extension": ".py",
   "mimetype": "text/x-python",
   "name": "python",
   "nbconvert_exporter": "python",
   "pygments_lexer": "ipython3",
   "version": "3.12.8"
  }
 },
 "nbformat": 4,
 "nbformat_minor": 2
}
