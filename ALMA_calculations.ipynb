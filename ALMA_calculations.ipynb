{
 "cells": [
  {
   "cell_type": "markdown",
   "metadata": {},
   "source": [
    "### This notebook calculates parameters for ALMA input and interpret result from ALMA output\n",
    "This notebook has to be run with Python 3.8.10 kernel"
   ]
  },
  {
   "cell_type": "code",
   "execution_count": null,
   "metadata": {},
   "outputs": [],
   "source": []
  },
  {
   "cell_type": "code",
   "execution_count": null,
   "metadata": {},
   "outputs": [],
   "source": [
    "\n"
   ]
  },
  {
   "cell_type": "code",
   "execution_count": null,
   "metadata": {},
   "outputs": [
    {
     "name": "stderr",
     "output_type": "stream",
     "text": [
      "DEPRECATION: Loading egg at c:\\users\\lhem\\appdata\\local\\programs\\python\\python312\\lib\\site-packages\\radmc3dpy-2.0-py3.12.egg is deprecated. pip 25.1 will enforce this behaviour change. A possible replacement is to use pip for package installation. Discussion can be found at https://github.com/pypa/pip/issues/12330\n",
      "ERROR: Ignored the following yanked versions: 6.5.5.20, 6.5.6.21, 6.6.0.19\n",
      "ERROR: Could not find a version that satisfies the requirement casatasks==99999 (from versions: 6.0.0.27, 6.2.0.124, 6.2.1.7, 6.3.0.48, 6.4.0.16, 6.4.3.27, 6.4.4.31, 6.5.0.15, 6.5.1.23, 6.5.2.26, 6.5.3.28, 6.5.5.21, 6.5.6.22, 6.6.0.20, 6.6.3.22, 6.6.4.34, 6.6.5.31)\n",
      "ERROR: No matching distribution found for casatasks==99999\n"
     ]
    }
   ],
   "source": [
    "!pip install casatasks==99999\n",
    "#"
   ]
  },
  {
   "cell_type": "code",
   "execution_count": 2,
   "metadata": {},
   "outputs": [
    {
     "name": "stdout",
     "output_type": "stream",
     "text": [
      "Collecting casatasks\n",
      "  Using cached casatasks-6.6.5.31-py3-none-any.whl.metadata (685 bytes)\n",
      "INFO: pip is looking at multiple versions of casatasks to determine which version is compatible with other requirements. This could take a while.\n",
      "  Using cached casatasks-6.6.4.34-py3-none-any.whl.metadata (664 bytes)\n",
      "  Using cached casatasks-6.6.3.22-py3-none-any.whl.metadata (664 bytes)\n",
      "  Using cached casatasks-6.6.0.20-py3-none-any.whl.metadata (664 bytes)\n",
      "  Using cached casatasks-6.5.6.22-py3-none-any.whl.metadata (666 bytes)\n",
      "  Using cached casatasks-6.5.5.21-py3-none-any.whl.metadata (685 bytes)\n",
      "  Using cached casatasks-6.5.3.28-py3-none-any.whl.metadata (685 bytes)\n",
      "  Using cached casatasks-6.5.2.26-py3-none-any.whl.metadata (685 bytes)\n",
      "INFO: pip is still looking at multiple versions of casatasks to determine which version is compatible with other requirements. This could take a while.\n",
      "  Using cached casatasks-6.5.1.23-py3-none-any.whl.metadata (685 bytes)\n",
      "  Using cached casatasks-6.5.0.15-py3-none-any.whl.metadata (685 bytes)\n",
      "  Using cached casatasks-6.4.4.31-py3-none-any.whl.metadata (685 bytes)\n",
      "  Using cached casatasks-6.4.3.27-py3-none-any.whl.metadata (685 bytes)\n",
      "  Using cached casatasks-6.4.0.16-py3-none-any.whl.metadata (662 bytes)\n",
      "INFO: This is taking longer than usual. You might need to provide the dependency resolver with stricter constraints to reduce runtime. See https://pip.pypa.io/warnings/backtracking for guidance. If you want to abort this run, press Ctrl + C.\n",
      "  Using cached casatasks-6.3.0.48-py3-none-any.whl.metadata (662 bytes)\n",
      "  Using cached casatasks-6.2.1.7-py3-none-any.whl.metadata (660 bytes)\n",
      "  Using cached casatasks-6.2.0.124-py3-none-any.whl.metadata (664 bytes)\n",
      "  Using cached casatasks-6.0.0.27-py3-none-any.whl.metadata (621 bytes)\n",
      "\n",
      "The conflict is caused by:\n",
      "    casatasks 6.6.5.31 depends on casatools==6.6.5.31\n",
      "    casatasks 6.6.4.34 depends on casatools==6.6.4.34\n",
      "    casatasks 6.6.3.22 depends on casatools==6.6.3.22\n",
      "    casatasks 6.6.0.20 depends on casatools==6.6.0.20\n",
      "    casatasks 6.5.6.22 depends on casatools==6.5.6.22\n",
      "    casatasks 6.5.5.21 depends on casatools==6.5.5.21\n",
      "    casatasks 6.5.3.28 depends on casatools==6.5.3.28\n",
      "    casatasks 6.5.2.26 depends on casatools==6.5.2.26\n",
      "    casatasks 6.5.1.23 depends on casatools==6.5.1.23\n",
      "    casatasks 6.5.0.15 depends on casatools==6.5.0.15\n",
      "    casatasks 6.4.4.31 depends on casatools==6.4.4.31\n",
      "    casatasks 6.4.3.27 depends on casatools==6.4.3.27\n",
      "    casatasks 6.4.0.16 depends on casatools==6.4.0.16\n",
      "    casatasks 6.3.0.48 depends on casatools==6.3.0.48\n",
      "    casatasks 6.2.1.7 depends on casatools==6.2.1.7\n",
      "    casatasks 6.2.0.124 depends on casatools==6.2.0.124\n",
      "    casatasks 6.0.0.27 depends on casatools==6.0.0.27\n",
      "\n",
      "To fix this you could try to:\n",
      "1. loosen the range of package versions you've specified\n",
      "2. remove package versions to allow pip to attempt to solve the dependency conflict\n",
      "\n"
     ]
    },
    {
     "name": "stderr",
     "output_type": "stream",
     "text": [
      "DEPRECATION: Loading egg at c:\\users\\lhem\\appdata\\local\\programs\\python\\python312\\lib\\site-packages\\radmc3dpy-2.0-py3.12.egg is deprecated. pip 25.1 will enforce this behaviour change. A possible replacement is to use pip for package installation. Discussion can be found at https://github.com/pypa/pip/issues/12330\n",
      "ERROR: Cannot install casatasks==6.0.0.27, casatasks==6.2.0.124, casatasks==6.2.1.7, casatasks==6.3.0.48, casatasks==6.4.0.16, casatasks==6.4.3.27, casatasks==6.4.4.31, casatasks==6.5.0.15, casatasks==6.5.1.23, casatasks==6.5.2.26, casatasks==6.5.3.28, casatasks==6.5.5.21, casatasks==6.5.6.22, casatasks==6.6.0.20, casatasks==6.6.3.22, casatasks==6.6.4.34 and casatasks==6.6.5.31 because these package versions have conflicting dependencies.\n",
      "ERROR: ResolutionImpossible: for help visit https://pip.pypa.io/en/latest/topics/dependency-resolution/#dealing-with-dependency-conflicts\n"
     ]
    }
   ],
   "source": [
    "!pip install casatasks"
   ]
  },
  {
   "cell_type": "code",
   "execution_count": 3,
   "metadata": {},
   "outputs": [
    {
     "name": "stderr",
     "output_type": "stream",
     "text": [
      "DEPRECATION: Loading egg at c:\\users\\lhem\\appdata\\local\\programs\\python\\python312\\lib\\site-packages\\radmc3dpy-2.0-py3.12.egg is deprecated. pip 25.1 will enforce this behaviour change. A possible replacement is to use pip for package installation. Discussion can be found at https://github.com/pypa/pip/issues/12330\n",
      "ERROR: Could not find a version that satisfies the requirement casatools==99999 (from versions: none)\n",
      "ERROR: No matching distribution found for casatools==99999\n"
     ]
    }
   ],
   "source": [
    "# This person installed castools with python3.8.3: https://open-bitbucket.nrao.edu/projects/CASA/repos/casa6/browse/casatools\n",
    "\n",
    "!pip install casatools==99999"
   ]
  },
  {
   "cell_type": "code",
   "execution_count": null,
   "metadata": {},
   "outputs": [
    {
     "ename": "",
     "evalue": "",
     "output_type": "error",
     "traceback": [
      "\u001b[1;31mRunning cells with '.venv (Python 3.12.8)' requires the ipykernel package.\n",
      "\u001b[1;31mRun the following command to install 'ipykernel' into the Python environment. \n",
      "\u001b[1;31mCommand: 'c:/Users/LHEM/Desktop/Van_Code_Projects/Circumplanetary_Disk/.venv/Scripts/python.exe -m pip install ipykernel -U --force-reinstall'"
     ]
    }
   ],
   "source": [
    "# Anyways I can do some caluclations of parameters first or set up a basic script\n",
    "\n",
    "# Required Resolution\n",
    "# prob about 0.1 arcsec and maybe smaller\n",
    "#To calculate"
   ]
  },
  {
   "cell_type": "code",
   "execution_count": null,
   "metadata": {},
   "outputs": [
    {
     "ename": "",
     "evalue": "",
     "output_type": "error",
     "traceback": [
      "\u001b[1;31mRunning cells with '.venv (Python 3.12.8)' requires the ipykernel package.\n",
      "\u001b[1;31mRun the following command to install 'ipykernel' into the Python environment. \n",
      "\u001b[1;31mCommand: 'c:/Users/LHEM/Desktop/Van_Code_Projects/Circumplanetary_Disk/.venv/Scripts/python.exe -m pip install ipykernel -U --force-reinstall'"
     ]
    }
   ],
   "source": [
    "# import casatasks\n",
    "#https://github.com/aardk/jupyter-casa/blob/master/examples/vla-cont-tutorial.ipynb\n",
    "#https://colab.research.google.com/github/casangi/examples/blob/master/community/casa6_demo.ipynb#scrollTo=IIr5sp0VgR2m"
   ]
  },
  {
   "cell_type": "code",
   "execution_count": null,
   "metadata": {},
   "outputs": [],
   "source": []
  },
  {
   "cell_type": "code",
   "execution_count": null,
   "metadata": {},
   "outputs": [],
   "source": [
    "# Inspect FITS file"
   ]
  },
  {
   "cell_type": "code",
   "execution_count": null,
   "metadata": {},
   "outputs": [],
   "source": [
    "# Calculate Sensitivity/Observation Time"
   ]
  },
  {
   "cell_type": "code",
   "execution_count": null,
   "metadata": {},
   "outputs": [],
   "source": [
    "# Calculate required resolution"
   ]
  },
  {
   "cell_type": "code",
   "execution_count": null,
   "metadata": {},
   "outputs": [],
   "source": [
    "# How to interpret Output image : measure radius\n",
    "# Should be able to do this small pipeline within today"
   ]
  }
 ],
 "metadata": {
  "kernelspec": {
   "display_name": "Python 3",
   "language": "python",
   "name": "python3"
  },
  "language_info": {
   "codemirror_mode": {
    "name": "ipython",
    "version": 3
   },
   "file_extension": ".py",
   "mimetype": "text/x-python",
   "name": "python",
   "nbconvert_exporter": "python",
   "pygments_lexer": "ipython3",
   "version": "3.12.8"
  }
 },
 "nbformat": 4,
 "nbformat_minor": 2
}
